{
 "cells": [
  {
   "cell_type": "code",
   "execution_count": 1,
   "id": "2fa46740",
   "metadata": {},
   "outputs": [],
   "source": [
    "import numpy as np\n",
    "import pandas as pd\n",
    "import matplotlib.pyplot as plt"
   ]
  },
  {
   "cell_type": "code",
   "execution_count": 2,
   "id": "7db8b708",
   "metadata": {},
   "outputs": [
    {
     "data": {
      "text/html": [
       "<div>\n",
       "<style scoped>\n",
       "    .dataframe tbody tr th:only-of-type {\n",
       "        vertical-align: middle;\n",
       "    }\n",
       "\n",
       "    .dataframe tbody tr th {\n",
       "        vertical-align: top;\n",
       "    }\n",
       "\n",
       "    .dataframe thead th {\n",
       "        text-align: right;\n",
       "    }\n",
       "</style>\n",
       "<table border=\"1\" class=\"dataframe\">\n",
       "  <thead>\n",
       "    <tr style=\"text-align: right;\">\n",
       "      <th></th>\n",
       "      <th>surah</th>\n",
       "      <th>ayeh</th>\n",
       "      <th>text</th>\n",
       "    </tr>\n",
       "  </thead>\n",
       "  <tbody>\n",
       "    <tr>\n",
       "      <th>0</th>\n",
       "      <td>1</td>\n",
       "      <td>1</td>\n",
       "      <td>بِسْمِ اللَّهِ الرَّحْمَنِ الرَّحِيمِ</td>\n",
       "    </tr>\n",
       "    <tr>\n",
       "      <th>1</th>\n",
       "      <td>1</td>\n",
       "      <td>2</td>\n",
       "      <td>الْحَمْدُ لِلَّهِ رَبِّ الْعَالَمِينَ</td>\n",
       "    </tr>\n",
       "    <tr>\n",
       "      <th>2</th>\n",
       "      <td>1</td>\n",
       "      <td>3</td>\n",
       "      <td>الرَّحْمَنِ الرَّحِيمِ</td>\n",
       "    </tr>\n",
       "    <tr>\n",
       "      <th>3</th>\n",
       "      <td>1</td>\n",
       "      <td>4</td>\n",
       "      <td>مَالِكِ يَوْمِ الدِّينِ</td>\n",
       "    </tr>\n",
       "    <tr>\n",
       "      <th>4</th>\n",
       "      <td>1</td>\n",
       "      <td>5</td>\n",
       "      <td>إِيَّاكَ نَعْبُدُ وَإِيَّاكَ نَسْتَعِينُ</td>\n",
       "    </tr>\n",
       "    <tr>\n",
       "      <th>5</th>\n",
       "      <td>1</td>\n",
       "      <td>6</td>\n",
       "      <td>اهْدِنَا الصِّرَاطَ الْمُسْتَقِيمَ</td>\n",
       "    </tr>\n",
       "    <tr>\n",
       "      <th>6</th>\n",
       "      <td>1</td>\n",
       "      <td>7</td>\n",
       "      <td>صِرَاطَ الَّذِينَ أَنْعَمْتَ عَلَيْهِمْ غَيْرِ...</td>\n",
       "    </tr>\n",
       "  </tbody>\n",
       "</table>\n",
       "</div>"
      ],
      "text/plain": [
       "   surah  ayeh                                               text\n",
       "0      1     1              بِسْمِ اللَّهِ الرَّحْمَنِ الرَّحِيمِ\n",
       "1      1     2              الْحَمْدُ لِلَّهِ رَبِّ الْعَالَمِينَ\n",
       "2      1     3                             الرَّحْمَنِ الرَّحِيمِ\n",
       "3      1     4                            مَالِكِ يَوْمِ الدِّينِ\n",
       "4      1     5           إِيَّاكَ نَعْبُدُ وَإِيَّاكَ نَسْتَعِينُ\n",
       "5      1     6                 اهْدِنَا الصِّرَاطَ الْمُسْتَقِيمَ\n",
       "6      1     7  صِرَاطَ الَّذِينَ أَنْعَمْتَ عَلَيْهِمْ غَيْرِ..."
      ]
     },
     "execution_count": 2,
     "metadata": {},
     "output_type": "execute_result"
    }
   ],
   "source": [
    "data = pd.read_csv('quran.csv')\n",
    "data.drop('Unnamed: 0', axis=1, inplace=True)\n",
    "data.head(7)"
   ]
  },
  {
   "cell_type": "code",
   "execution_count": 3,
   "id": "fd3ddfe8",
   "metadata": {},
   "outputs": [
    {
     "data": {
      "text/plain": [
       "1841"
      ]
     },
     "execution_count": 3,
     "metadata": {},
     "output_type": "execute_result"
    }
   ],
   "source": [
    "head = data.head(7)\n",
    "search = data[data.apply(lambda row: row.astype(str).str.contains('اللَّه').any(), axis=1)]\n",
    "len(search)"
   ]
  },
  {
   "cell_type": "markdown",
   "id": "22fd1fe8",
   "metadata": {},
   "source": [
    "# Add classify to csv"
   ]
  },
  {
   "cell_type": "code",
   "execution_count": 90,
   "id": "358e7fbf",
   "metadata": {},
   "outputs": [
    {
     "data": {
      "text/html": [
       "<div>\n",
       "<style scoped>\n",
       "    .dataframe tbody tr th:only-of-type {\n",
       "        vertical-align: middle;\n",
       "    }\n",
       "\n",
       "    .dataframe tbody tr th {\n",
       "        vertical-align: top;\n",
       "    }\n",
       "\n",
       "    .dataframe thead th {\n",
       "        text-align: right;\n",
       "    }\n",
       "</style>\n",
       "<table border=\"1\" class=\"dataframe\">\n",
       "  <thead>\n",
       "    <tr style=\"text-align: right;\">\n",
       "      <th></th>\n",
       "      <th>surah</th>\n",
       "      <th>ayeh</th>\n",
       "      <th>text</th>\n",
       "      <th>classify</th>\n",
       "    </tr>\n",
       "  </thead>\n",
       "  <tbody>\n",
       "    <tr>\n",
       "      <th>0</th>\n",
       "      <td>1</td>\n",
       "      <td>1</td>\n",
       "      <td>بِسْمِ اللَّهِ الرَّحْمَنِ الرَّحِيمِ</td>\n",
       "      <td>good</td>\n",
       "    </tr>\n",
       "    <tr>\n",
       "      <th>1</th>\n",
       "      <td>1</td>\n",
       "      <td>2</td>\n",
       "      <td>الْحَمْدُ لِلَّهِ رَبِّ الْعَالَمِينَ</td>\n",
       "      <td>good</td>\n",
       "    </tr>\n",
       "    <tr>\n",
       "      <th>2</th>\n",
       "      <td>1</td>\n",
       "      <td>3</td>\n",
       "      <td>الرَّحْمَنِ الرَّحِيمِ</td>\n",
       "      <td>good</td>\n",
       "    </tr>\n",
       "    <tr>\n",
       "      <th>3</th>\n",
       "      <td>1</td>\n",
       "      <td>4</td>\n",
       "      <td>مَالِكِ يَوْمِ الدِّينِ</td>\n",
       "      <td>bad</td>\n",
       "    </tr>\n",
       "    <tr>\n",
       "      <th>4</th>\n",
       "      <td>1</td>\n",
       "      <td>5</td>\n",
       "      <td>إِيَّاكَ نَعْبُدُ وَإِيَّاكَ نَسْتَعِينُ</td>\n",
       "      <td>bad</td>\n",
       "    </tr>\n",
       "    <tr>\n",
       "      <th>5</th>\n",
       "      <td>1</td>\n",
       "      <td>6</td>\n",
       "      <td>اهْدِنَا الصِّرَاطَ الْمُسْتَقِيمَ</td>\n",
       "      <td>bad</td>\n",
       "    </tr>\n",
       "    <tr>\n",
       "      <th>6</th>\n",
       "      <td>1</td>\n",
       "      <td>7</td>\n",
       "      <td>صِرَاطَ الَّذِينَ أَنْعَمْتَ عَلَيْهِمْ غَيْرِ...</td>\n",
       "      <td>bad</td>\n",
       "    </tr>\n",
       "    <tr>\n",
       "      <th>7</th>\n",
       "      <td>2</td>\n",
       "      <td>1</td>\n",
       "      <td>بِسْمِ اللَّهِ الرَّحْمَنِ الرَّحِيمِ الم</td>\n",
       "      <td>good</td>\n",
       "    </tr>\n",
       "    <tr>\n",
       "      <th>8</th>\n",
       "      <td>2</td>\n",
       "      <td>2</td>\n",
       "      <td>ذَلِكَ الْكِتَابُ لَا رَيْبَ فِيهِ هُدًى لِّلْ...</td>\n",
       "      <td>good</td>\n",
       "    </tr>\n",
       "    <tr>\n",
       "      <th>9</th>\n",
       "      <td>2</td>\n",
       "      <td>3</td>\n",
       "      <td>الَّذِينَ يُؤْمِنُونَ بِالْغَيْبِ وَيُقِيمُونَ...</td>\n",
       "      <td>bad</td>\n",
       "    </tr>\n",
       "  </tbody>\n",
       "</table>\n",
       "</div>"
      ],
      "text/plain": [
       "   surah  ayeh                                               text  classify\n",
       "0      1     1              بِسْمِ اللَّهِ الرَّحْمَنِ الرَّحِيمِ      good\n",
       "1      1     2              الْحَمْدُ لِلَّهِ رَبِّ الْعَالَمِينَ      good\n",
       "2      1     3                             الرَّحْمَنِ الرَّحِيمِ      good\n",
       "3      1     4                            مَالِكِ يَوْمِ الدِّينِ       bad\n",
       "4      1     5           إِيَّاكَ نَعْبُدُ وَإِيَّاكَ نَسْتَعِينُ       bad\n",
       "5      1     6                 اهْدِنَا الصِّرَاطَ الْمُسْتَقِيمَ       bad\n",
       "6      1     7  صِرَاطَ الَّذِينَ أَنْعَمْتَ عَلَيْهِمْ غَيْرِ...       bad\n",
       "7      2     1          بِسْمِ اللَّهِ الرَّحْمَنِ الرَّحِيمِ الم      good\n",
       "8      2     2  ذَلِكَ الْكِتَابُ لَا رَيْبَ فِيهِ هُدًى لِّلْ...      good\n",
       "9      2     3  الَّذِينَ يُؤْمِنُونَ بِالْغَيْبِ وَيُقِيمُونَ...       bad"
      ]
     },
     "execution_count": 90,
     "metadata": {},
     "output_type": "execute_result"
    }
   ],
   "source": [
    "a = pd.read_csv('quran_classify.csv')\n",
    "# a.drop('Unnamed: 5', axis=1, inplace=True)\n",
    "a.drop('Unnamed: 0', axis=1, inplace=True)\n",
    "a.head(10)"
   ]
  },
  {
   "cell_type": "code",
   "execution_count": 91,
   "id": "46947a44",
   "metadata": {},
   "outputs": [
    {
     "data": {
      "text/plain": [
       "103"
      ]
     },
     "execution_count": 91,
     "metadata": {},
     "output_type": "execute_result"
    }
   ],
   "source": [
    "classify_defined = a.dropna(axis=0)\n",
    "classify_defined.columns = ['surah', 'ayeh', 'text', 'classify']\n",
    "len(classify_defined.index)"
   ]
  },
  {
   "cell_type": "code",
   "execution_count": 92,
   "id": "0ddfaf54",
   "metadata": {},
   "outputs": [],
   "source": [
    "from sklearn.feature_extraction.text import CountVectorizer\n",
    "from sklearn.naive_bayes import MultinomialNB"
   ]
  },
  {
   "cell_type": "code",
   "execution_count": 93,
   "id": "aecc6443",
   "metadata": {},
   "outputs": [
    {
     "data": {
      "text/plain": [
       "MultinomialNB()"
      ]
     },
     "execution_count": 93,
     "metadata": {},
     "output_type": "execute_result"
    }
   ],
   "source": [
    "vectorizer = CountVectorizer()\n",
    "counts = vectorizer.fit_transform(classify_defined['text'].values)\n",
    "targets = classify_defined['classify'].values\n",
    "\n",
    "classifier = MultinomialNB()\n",
    "classifier.fit(counts, targets)"
   ]
  },
  {
   "cell_type": "code",
   "execution_count": 104,
   "id": "cc9cc08e",
   "metadata": {},
   "outputs": [
    {
     "name": "stdout",
     "output_type": "stream",
     "text": [
      "['good' 'good' 'good' 'good' 'bad' 'bad' 'bad' 'good']\n"
     ]
    }
   ],
   "source": [
    "examples = [\n",
    "    'بِسْمِ اللَّهِ الرَّحْمَنِ الرَّحِيمِ وَالشَّمْسِ وَضُحَاهَا',\n",
    "    'وَرَبُّکَ الْغَفُورُ ذُو الرَّحْمَةِ',\n",
    "    'وَرَحمَتِی وَسِعَت کُلَّ شَیء',\n",
    "    'کَتَبَ رَبُّکُمْ عَلَی نَفْسِهِ الرَّحْمَةَ',\n",
    "    'أُولَئِكَ الَّذِينَ اشْتَرَوُا الضَّلَالَةَ بِالْهُدَى وَالْعَذَابَ بِالْمَغْفِرَةِ فَمَا أَصْبَرَهُمْ عَلَى النَّارِ',\n",
    "    'نَارٌ حَامِيَةٌ',\n",
    "    'فَأَخَذَهُ اللَّهُ نَكَالَ الْآخِرَةِ وَالْأُولَى',\n",
    "    ]\n",
    "example_counts = vectorizer.transform(examples)\n",
    "predictions = classifier.predict(example_counts)\n",
    "print(predictions)"
   ]
  },
  {
   "cell_type": "code",
   "execution_count": null,
   "id": "16d25c3d",
   "metadata": {},
   "outputs": [],
   "source": []
  }
 ],
 "metadata": {
  "kernelspec": {
   "display_name": "Python 3 (ipykernel)",
   "language": "python",
   "name": "python3"
  },
  "language_info": {
   "codemirror_mode": {
    "name": "ipython",
    "version": 3
   },
   "file_extension": ".py",
   "mimetype": "text/x-python",
   "name": "python",
   "nbconvert_exporter": "python",
   "pygments_lexer": "ipython3",
   "version": "3.10.4"
  }
 },
 "nbformat": 4,
 "nbformat_minor": 5
}
